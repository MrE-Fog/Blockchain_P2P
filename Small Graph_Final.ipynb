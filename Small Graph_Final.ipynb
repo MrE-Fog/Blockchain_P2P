{
 "cells": [
  {
   "cell_type": "code",
   "execution_count": 32,
   "metadata": {},
   "outputs": [],
   "source": [
    "import networkx as nx \n",
    "import matplotlib.pyplot as plt \n",
    "import numpy\n",
    "import csv\n",
    "import gurobipy as grb\n",
    "import copy\n",
    "import time"
   ]
  },
  {
   "cell_type": "code",
   "execution_count": 3,
   "metadata": {},
   "outputs": [],
   "source": [
    "n=10 #number of nodes of the graph\n",
    "prob=0.3 #Edge density: Between 0 and 1\n",
    "no_of_tran=1500 #number of transaction between each pair of sender and reciever \n",
    "M_vector=numpy.array([5,10,20,50,100]) #Capacity of each link in the graph\n",
    "numpy.random.seed(1)"
   ]
  },
  {
   "cell_type": "markdown",
   "metadata": {},
   "source": [
    "# Generate a Bidirected graph with specified # of nodes and edge density \n",
    "\n",
    "Erdos Renyi Random Graph"
   ]
  },
  {
   "cell_type": "code",
   "execution_count": 5,
   "metadata": {},
   "outputs": [],
   "source": [
    "numpy.random.seed(1)\n",
    "random_G= nx.erdos_renyi_graph(n,prob) #Generate an Erdos Renyi Random Graph with n nodes and probability of an edge p\n",
    "uni_edges=random_G.edges\n",
    "numpy.savetxt('medium_graph.csv', (uni_edges), delimiter=',') #Saving the edges of the generated graph in a csv file\n",
    "\n",
    "#Now, we will convert the graph into a bidirectional graph by adding edges in the opposite direction\n",
    "rows=len(uni_edges) #Number of edges in the generated graph\n",
    "col=2 #Source and Destination tuple of each edge\n",
    "bi_edges=numpy.zeros((2*rows,col)) #double the number of edges of G\n",
    "with open('medium_graph.csv') as csvDataFile: #Reading the csv file to import the edges of G\n",
    "    p=csv.reader(csvDataFile)\n",
    "    p=list(p)\n",
    "    for i in range(0,col):\n",
    "        for j in range(0,rows):\n",
    "            bi_edges[j,i]=p[j][i]\n",
    "    for i in range(0,col): \n",
    "        for j in range(rows,2*rows):\n",
    "            bi_edges[j,i]=bi_edges[j-rows,(i+1)%2] #Adding edges in the opposite direction\n",
    "bi_edges=numpy.array(bi_edges)\n",
    "bi_edges=bi_edges.astype(int)\n",
    "\n",
    "#Generate a bidirectional graph with bi_edges\n",
    "w=numpy.ones((2*rows))\n",
    "bi_G = nx.DiGraph()\n",
    "for i in range(0,2*rows):\n",
    "    bi_G.add_weighted_edges_from([(bi_edges[i,0], bi_edges[i,1],w[i])]) #Adding bi_edges to the graph with weights w"
   ]
  },
  {
   "cell_type": "markdown",
   "metadata": {},
   "source": [
    "# Generating Poisson Random Transaction Requests\n",
    "\n",
    "- First, generate circular transaction rates \n",
    "- Then, Generate no_of_tran Poisson Transaction requests between each pair of nodes with the specified rate\n",
    "- Finally, randomize the order of transaction requests to generate the final data set\n"
   ]
  },
  {
   "cell_type": "code",
   "execution_count": 6,
   "metadata": {},
   "outputs": [
    {
     "name": "stdout",
     "output_type": "stream",
     "text": [
      "[[0. 0. 5. 1. 3. 4. 4. 3. 5. 3.]\n",
      " [2. 0. 0. 5. 5. 3. 3. 5. 1. 4.]\n",
      " [2. 3. 0. 5. 2. 5. 5. 3. 1. 1.]\n",
      " [5. 1. 3. 0. 3. 2. 5. 2. 2. 5.]\n",
      " [5. 4. 3. 1. 0. 3. 3. 3. 3. 3.]\n",
      " [7. 4. 3. 3. 3. 0. 2. 1. 4. 3.]\n",
      " [1. 8. 2. 6. 3. 4. 0. 1. 2. 2.]\n",
      " [1. 2. 3. 2. 3. 6. 2. 0. 3. 2.]\n",
      " [3. 4. 5. 0. 4. 0. 4. 1. 0. 4.]\n",
      " [2. 2. 3. 5. 2. 3. 1. 5. 4. 0.]]\n"
     ]
    }
   ],
   "source": [
    "numpy.random.seed(1)\n",
    "#Generating the circular transaction rate matrix\n",
    "I=numpy.identity(n)\n",
    "P=numpy.zeros((n,n))\n",
    "for i in range(0,n*3):\n",
    "    P=P+numpy.random.permutation(I)\n",
    "for i in range(0,n):\n",
    "    P[i,i]=0\n",
    "#Generating no_of_tran number of transactions between each pair of nodes\n",
    "tran=numpy.array([0,11,1]) #initialize transaction array (this row will be deleted later)\n",
    "for k in range(0,no_of_tran):\n",
    "    for i in range(0,n):\n",
    "        for j in range(0,n):\n",
    "            if i!=j:\n",
    "                x=numpy.random.poisson(P[i,j]) #Generating random transaction request from i to j\n",
    "                if x>0:\n",
    "                    New_tran=numpy.array([i,j,x]) #saving the new transaction as sender-reciever-value\n",
    "                    tran=numpy.vstack((tran,New_tran)) #adding the new transaction to the list\n",
    "tran=numpy.delete(tran,obj=0,axis=0) #deleting the first row \n",
    "numpy.random.shuffle(tran) #shuffling the transaction order\n",
    "print(P)"
   ]
  },
  {
   "cell_type": "markdown",
   "metadata": {},
   "source": [
    "# Finding the minimum weighted path in a given graph G from s to d"
   ]
  },
  {
   "cell_type": "code",
   "execution_count": 36,
   "metadata": {},
   "outputs": [],
   "source": [
    "def minwp(G,s,d,tran):\n",
    "    start_time=time.time()\n",
    "    min_wei_path=0 #initialize the minimum weighted path to 0\n",
    "    X=nx.all_simple_paths(G,s,d) #Enumerating all the paths from s to d\n",
    "    weight2=1000 #Intitialize by a very big number\n",
    "    for j, a in enumerate(X): #a is a path from s to d\n",
    "        weight1=0 #Initialize to calculate weight of a\n",
    "        for k in range(0,len(a)-1):\n",
    "            weight1=weight1+G[a[k]][a[k+1]]['weight']-G[a[k+1]][a[k]]['weight'] #calculate the total weight of 'a'\n",
    "        if min(weight1,weight2)==weight1 and weight1!=weight2: #compare with the best weight obtained so far\n",
    "            min_wei_path=a #update the minimum weighted path\n",
    "            weight2=weight1 #update the best weight obtained so far\n",
    "    var=1\n",
    "    for l in range(0,len(min_wei_path)-1):\n",
    "        s=min(G[min_wei_path[l]][min_wei_path[l+1]]['weight'],G[min_wei_path[l+1]][min_wei_path[l]]['weight'],M)\n",
    "        if G[min_wei_path[l]][min_wei_path[l+1]]['weight']+tran-s>M: \n",
    "            #Checking if a has enough capacity to route tran\n",
    "            var=0\n",
    "    if var!=0:\n",
    "        return (min_wei_path,time.time()-start_time) #We will either get a path from s to d or 0 if min_wei_path cannot route tran\n",
    "    else:\n",
    "        return (0,time.time()-start_time)"
   ]
  },
  {
   "cell_type": "markdown",
   "metadata": {},
   "source": [
    "# Routing tran using path"
   ]
  },
  {
   "cell_type": "code",
   "execution_count": 8,
   "metadata": {},
   "outputs": [],
   "source": [
    "def UpdateWeights(G,path,tran):\n",
    "    for i in range(0,len(path)-1):\n",
    "        s=min(G[path[i]][path[i+1]]['weight'],G[path[i+1]][path[i]]['weight'],M) #calculating the amount of service\n",
    "        G[path[i]][path[i+1]]['weight']=G[path[i]][path[i+1]]['weight']+tran-s\n",
    "        G[path[i+1]][path[i]]['weight']=G[path[i+1]][path[i]]['weight']-s\n",
    "    return G"
   ]
  },
  {
   "cell_type": "markdown",
   "metadata": {},
   "source": [
    "# Main Loop"
   ]
  },
  {
   "cell_type": "code",
   "execution_count": 39,
   "metadata": {},
   "outputs": [
    {
     "name": "stdout",
     "output_type": "stream",
     "text": [
      "no_of_succ_tran: 53487 amount_of_succ_tran: 124453 total_buffer: 46.0 M: 5 time: 8.062795877456665\n",
      "no_of_succ_tran: 77930 amount_of_succ_tran: 231295 total_buffer: 72.0 M: 10 time: 7.883580207824707\n",
      "no_of_succ_tran: 89219 amount_of_succ_tran: 282849 total_buffer: 149.0 M: 20 time: 7.9091267585754395\n",
      "no_of_succ_tran: 93451 amount_of_succ_tran: 302207 total_buffer: 447.0 M: 50 time: 7.813626766204834\n",
      "no_of_succ_tran: 94119 amount_of_succ_tran: 305379 total_buffer: 954.0 M: 100 time: 8.00032114982605\n"
     ]
    }
   ],
   "source": [
    "for argument in range(0,len(M_vector)):\n",
    "    M=M_vector[argument]\n",
    "    no_of_succ_tran=0\n",
    "    amount_of_succ_tran=0\n",
    "    total_buffer=0\n",
    "    min_wei_path=0\n",
    "    t=0\n",
    "    total_time=0\n",
    "    start_time=time.time()\n",
    "    for k in range(0,len(bi_edges)):\n",
    "        bi_G[bi_edges[k,0]][bi_edges[k,1]]['weight']=0.01/len(bi_edges) #initializing the weights\n",
    "        bi_G[bi_edges[k,0]][bi_edges[k,1]]['imbalance']=0 #initializing the imbalance\n",
    "    for i in range(0,len(tran)):\n",
    "        if min_wei_path!=0:\n",
    "            bi_G=UpdateWeights(bi_G,min_wei_path,0) #Balancing the outstanding balance from prev transaction\n",
    "            #Ideally, you would clear out the buffer on all the edges but we do it only for the edges for which \n",
    "            #there can be some outstanding balance to optimize the run time of the code\n",
    "        (min_wei_path,t)=minwp_heu(bi_G,tran[i,0],tran[i,1],float(tran[i,2]),1) #finding the minimum weighted path from sender to reciever\n",
    "        total_time=total_time+t\n",
    "        if min_wei_path!=0: #If a path exists\n",
    "            bi_G=UpdateWeights(bi_G,min_wei_path,tran[i,2]) #Route the transaction using min_wei_path\n",
    "            no_of_succ_tran=no_of_succ_tran+1\n",
    "            amount_of_succ_tran=amount_of_succ_tran+tran[i,2]\n",
    "    for i in range(0,len(bi_edges)):\n",
    "        total_buffer=total_buffer+bi_G[bi_edges[i,0]][bi_edges[i,1]]['weight']\n",
    "    print(\"no_of_succ_tran:\", no_of_succ_tran, \"amount_of_succ_tran:\", amount_of_succ_tran,\n",
    "         \"total_buffer:\", total_buffer, \"M:\",M, \"time:\", total_time)"
   ]
  },
  {
   "cell_type": "markdown",
   "metadata": {},
   "source": [
    "# Solving the Fluid Model"
   ]
  },
  {
   "cell_type": "code",
   "execution_count": 13,
   "metadata": {},
   "outputs": [
    {
     "name": "stdout",
     "output_type": "stream",
     "text": [
      "Using license file /Users/sushilvarma/gurobi.lic\n",
      "Academic license - for non-commercial use only\n",
      "Gurobi Optimizer version 9.0.2 build v9.0.2rc0 (mac64)\n",
      "Optimize a model with 124 rows, 700 columns and 3445 nonzeros\n",
      "Model fingerprint: 0xb805e1c4\n",
      "Coefficient statistics:\n",
      "  Matrix range     [1e+00, 1e+00]\n",
      "  Objective range  [1e+00, 1e+00]\n",
      "  Bounds range     [0e+00, 0e+00]\n",
      "  RHS range        [1e+00, 1e+02]\n",
      "Presolve removed 18 rows and 228 columns\n",
      "Presolve time: 0.01s\n",
      "Presolved: 106 rows, 472 columns, 3097 nonzeros\n",
      "\n",
      "Iteration    Objective       Primal Inf.    Dual Inf.      Time\n",
      "       0    2.7400000e+02   1.520013e+03   0.000000e+00      0s\n",
      "     235    2.7400000e+02   0.000000e+00   0.000000e+00      0s\n",
      "\n",
      "Solved in 235 iterations and 0.02 seconds\n",
      "Optimal objective  2.740000000e+02\n"
     ]
    }
   ],
   "source": [
    "max_number_paths=max(max(len(list(nx.all_simple_paths(bi_G,i,j))) for i in range(0,n)) for j in range(0,n))\n",
    "list_p=numpy.ones((n,n,max_number_paths,n))*-1\n",
    "for i in range(0,n):\n",
    "    for j in range(0,n):\n",
    "        k=0\n",
    "        for path in nx.all_simple_paths(bi_G,i,j):\n",
    "            for l in range(0,len(path)):\n",
    "                list_p[i,j,k,l]=path[l] #Enumerating all paths in the graph as an array\n",
    "            k=k+1\n",
    "def paths(list_p,u,v): #Finding all the paths that has edge (u,v)\n",
    "    x=[]\n",
    "    for i in range(0,n):\n",
    "        for j in range(0,n):\n",
    "            for k in range(0,max_number_paths):\n",
    "                for l in range(0,n-1):\n",
    "                    if list_p[i,j,k,l]==u and list_p[i,j,k,l+1]==v:\n",
    "                        x.append([i,j,k])\n",
    "    return(x)\n",
    "opt_model = grb.Model(name=\"Fluid Model\")\n",
    "x_vars  ={(i,j,p):opt_model.addVar(vtype=grb.GRB.CONTINUOUS, lb=0, name=\"x_{0}_{1}_{2}\".format(i,j,p)) \n",
    "for i in range(0,n) for j in range(0,n) for p in range(0,max_number_paths)}\n",
    "constraints = {(i,j) : opt_model.addConstr(lhs=grb.quicksum(x_vars[i,j,p] for p in range(0,max_number_paths)),\n",
    "        sense=grb.GRB.EQUAL,rhs=P[i,j], name=\"rate_equal_to_demand\".format(i,j))for i in range(0,n) \n",
    "               for j in range(0,n)}\n",
    "for i in range(0,int(len(bi_edges)/2)):\n",
    "    path_given_edge=numpy.array(paths(list_p,bi_edges[i,0],bi_edges[i,1]))\n",
    "    path_opp_edge=numpy.array(paths(list_p,bi_edges[i,1],bi_edges[i,0]))\n",
    "    opt_model.addConstr(lhs=grb.quicksum(x_vars[path_given_edge[j,0],path_given_edge[j,1]\n",
    "            ,path_given_edge[j,2]] for j in range(0,len(path_given_edge))),\n",
    "        sense=grb.GRB.LESS_EQUAL,rhs=M, name=\"capacity\".format(i))\n",
    "    opt_model.addConstr(lhs=grb.quicksum(x_vars[path_given_edge[j,0],path_given_edge[j,1]\n",
    "            ,path_given_edge[j,2]] for j in range(0,len(path_given_edge))),\n",
    "        sense=grb.GRB.EQUAL,rhs=grb.quicksum(x_vars[path_opp_edge[j,0],path_opp_edge[j,1]\n",
    "            ,path_opp_edge[j,2]] for j in range(0,len(path_given_edge))), name=\"flow_balance\".format(i))\n",
    "objective = grb.quicksum(x_vars[i,j,p] for i in range(0,n) for j in range(0,n) for p in range(0,max_number_paths))\n",
    "opt_model.setObjective(objective)\n",
    "opt_model.ModelSense = grb.GRB.MAXIMIZE\n",
    "opt_model.optimize()\n",
    "x_fluid=numpy.zeros((n,n,max_number_paths))\n",
    "i=0\n",
    "j=0\n",
    "p=0\n",
    "for v in opt_model.getVars():\n",
    "    x_fluid[i,j,p]=v.x\n",
    "    if j==n-1 and p==max_number_paths-1:\n",
    "        i=(i+1)\n",
    "    if p==max_number_paths-1:\n",
    "        j=(j+1)%n\n",
    "    p=(p+1)%max_number_paths"
   ]
  },
  {
   "cell_type": "markdown",
   "metadata": {},
   "source": [
    "# Randomizing the path for Spider (According to the fluid solution)"
   ]
  },
  {
   "cell_type": "code",
   "execution_count": 40,
   "metadata": {},
   "outputs": [],
   "source": [
    "def spider_path(G,x_fluid,s,d,tran):\n",
    "    start_time=time.time()\n",
    "    rand=numpy.random.uniform(0,1)\n",
    "    path=[-1]\n",
    "    path_output=[]\n",
    "    for p in range(0,max_number_paths):\n",
    "        if rand<x_fluid[s,d,p]/P[s,d]:\n",
    "            path=list_p[s,d,p]\n",
    "            break\n",
    "        else:\n",
    "            rand=rand-x_fluid[s,d,p]/P[s,d]\n",
    "    var=-1\n",
    "    for l in range(0,len(path)-1):\n",
    "        if path[l+1]!=-1:\n",
    "            s=min(G[path[l]][path[l+1]]['weight'],G[path[l+1]][path[l]]['weight'],M)\n",
    "            if G[path[l]][path[l+1]]['weight']+tran-s>M: \n",
    "            #Checking if path has enough capacity to route tran\n",
    "                var=0\n",
    "    if var!=0:\n",
    "        for i in range(0,n):\n",
    "            if path[i]!=-1:\n",
    "                path_output.append(path[i])\n",
    "        return (path_output,time.time()-start_time)\n",
    "    else:\n",
    "        return ([],time.time()-start_time)"
   ]
  },
  {
   "cell_type": "markdown",
   "metadata": {},
   "source": [
    "# Main Loop: Spider"
   ]
  },
  {
   "cell_type": "code",
   "execution_count": 41,
   "metadata": {},
   "outputs": [
    {
     "name": "stdout",
     "output_type": "stream",
     "text": [
      "no_of_succ_tran: 8661.0 amount_of_succ_tran: 17888.0 total_buffer: 53.0 M: 5 time: 13.698929786682129\n",
      "no_of_succ_tran: 10789.0 amount_of_succ_tran: 30668.0 total_buffer: 88.0 M: 10 time: 13.76298451423645\n",
      "no_of_succ_tran: 70078.0 amount_of_succ_tran: 204089.0 total_buffer: 150.0 M: 20 time: 14.020827770233154\n",
      "no_of_succ_tran: 92296.0 amount_of_succ_tran: 298813.0 total_buffer: 341.0 M: 50 time: 13.52838134765625\n",
      "no_of_succ_tran: 104240.0 amount_of_succ_tran: 352707.0 total_buffer: 674.0 M: 100 time: 13.65138840675354\n"
     ]
    }
   ],
   "source": [
    "for argument in range(0,len(M_vector)):\n",
    "    M=M_vector[argument]\n",
    "    no_of_succ_tran=0\n",
    "    amount_of_succ_tran=0\n",
    "    total_buffer=0\n",
    "    min_wei_path=[]\n",
    "    t=0\n",
    "    total_time=0\n",
    "    start_time=time.time()\n",
    "    for repeat in range(0,1):\n",
    "        for k in range(0,len(bi_edges)):\n",
    "            bi_G[bi_edges[k,0]][bi_edges[k,1]]['weight']=0.01/len(bi_edges) #initializing the weights\n",
    "            bi_G[bi_edges[k,0]][bi_edges[k,1]]['imbalance']=0 #initializing the imbalance\n",
    "        for i in range(0,len(tran)):\n",
    "            if min_wei_path!=[]:\n",
    "                bi_G=UpdateWeights(bi_G,min_wei_path,0) #Balancing the outstanding balance from prev transaction\n",
    "                #Ideally, you would clear out the buffer on all the edges but we do it only for the edges for which \n",
    "                #there can be some outstanding balance to optimize the run time of the code\n",
    "            (min_wei_path,t)=spider_path(bi_G,x_fluid,tran[i,0],tran[i,1],float(tran[i,2])) #finding the minimum weighted path from sender to reciever\n",
    "            total_time=total_time+t\n",
    "            if min_wei_path!=[]: #If a path exists\n",
    "                bi_G=UpdateWeights(bi_G,min_wei_path,tran[i,2]) #Route the transaction using min_wei_path\n",
    "                no_of_succ_tran=no_of_succ_tran+1\n",
    "                amount_of_succ_tran=amount_of_succ_tran+tran[i,2]\n",
    "        for i in range(0,len(bi_edges)):\n",
    "            total_buffer=total_buffer+bi_G[bi_edges[i,0]][bi_edges[i,1]]['weight']\n",
    "    print(\"no_of_succ_tran:\", no_of_succ_tran/(repeat+1), \"amount_of_succ_tran:\", amount_of_succ_tran/(repeat+1),\n",
    "             \"total_buffer:\", total_buffer/(repeat+1), \"M:\",M, \"time:\", total_time/(repeat+1))"
   ]
  },
  {
   "cell_type": "markdown",
   "metadata": {},
   "source": [
    "# Finding the minimum weighted path in a given graph G from s to d\n",
    "\n",
    "- Using the Heuristic: Find K- Shortest path using the positive part of the weights and pick the path among these which has the lowest total weight"
   ]
  },
  {
   "cell_type": "code",
   "execution_count": 38,
   "metadata": {},
   "outputs": [],
   "source": [
    "def minwp_heu(G,s,d,tran,K):\n",
    "    start_time=time.time()\n",
    "    X=nx.shortest_simple_paths(G,s,d,'imbalance') \n",
    "    #returns a generator which returns one path at a time from shortest to longest\n",
    "    weight2=100000 #initialize by a very large number\n",
    "    for j, path in enumerate(X): #enumerate shortest to longest paths \n",
    "        weight1=0 #initialize by 0 to calculate the weight of path\n",
    "        for k in range(0,len(path)-1):\n",
    "            weight1=weight1+G[path[k]][path[k+1]]['weight']-G[path[k+1]][path[k]]['weight'] \n",
    "            #calculating the actual weight of path p\n",
    "        if min(weight1,weight2)==weight1 and weight1!=weight2: #comparing with the best weight obtained so far\n",
    "            min_wei_path=path #picking the minimum weight path\n",
    "            weight2=weight1 #updating the best weight obtained so for\n",
    "        if j == K-1: #break after looking at K shortest paths according to the imbalance\n",
    "            break\n",
    "    var=1\n",
    "    for l in range(0,len(min_wei_path)-1):\n",
    "        s=min(G[min_wei_path[l]][min_wei_path[l+1]]['weight'],G[min_wei_path[l+1]][min_wei_path[l]]['weight'],M)\n",
    "        if G[min_wei_path[l]][min_wei_path[l+1]]['weight']+tran-s>M: \n",
    "            #Checking if a has enough capacity to route tran\n",
    "            var=0\n",
    "    if var!=0:\n",
    "        return (min_wei_path,time.time()-start_time) #We will either get a path from s to d or 0 if min_wei_path cannot route tran\n",
    "    else:\n",
    "        return (0,time.time()-start_time)"
   ]
  },
  {
   "cell_type": "code",
   "execution_count": 387,
   "metadata": {},
   "outputs": [
    {
     "name": "stdout",
     "output_type": "stream",
     "text": [
      "111029 out of 116563\n"
     ]
    }
   ],
   "source": [
    "no_of_succ_tran=0\n",
    "for k in range(0,len(bi_edges)):\n",
    "    bi_G[bi_edges[k,0]][bi_edges[k,1]]['weight']=0.01/len(bi_edges) #initializing the weights\n",
    "for i in range(0,len(tran)):\n",
    "    min_wei_path=minwp_heu(bi_G,tran[i,0],tran[i,1],float(tran[i,2]),1) #finding the minimum weighted path from sender to reciever\n",
    "    if min_wei_path!=0: #If a path exists\n",
    "        bi_G=UpdateWeights(bi_G,min_wei_path,float(tran[i,2])) #Route the transaction using min_wei_path\n",
    "        no_of_succ_tran=no_of_succ_tran+1\n",
    "print(no_of_succ_tran, \"out of\", i)"
   ]
  },
  {
   "cell_type": "code",
   "execution_count": 29,
   "metadata": {},
   "outputs": [
    {
     "name": "stderr",
     "output_type": "stream",
     "text": [
      "The PostScript backend does not support transparency; partially transparent artists will be rendered opaque.\n",
      "The PostScript backend does not support transparency; partially transparent artists will be rendered opaque.\n"
     ]
    },
    {
     "data": {
      "image/png": "[encoded data removed]",
      "text/plain": [
       "<Figure size 432x288 with 1 Axes>"
      ]
     },
     "metadata": {
      "needs_background": "light"
     },
     "output_type": "display_data"
    }
   ],
   "source": [
    "import matplotlib.pyplot as plt\n",
    "import numpy\n",
    "from matplotlib import rcParams\n",
    "rcParams['font.family'] = 'serif'\n",
    "rcParams['font.sans-serif'] = ['Computer Modern']\n",
    "x=numpy.array([5,10,20,50,100])\n",
    "y=numpy.array([43752,70891,90347,103432,109776])\n",
    "z=numpy.array([7045.8,35820.0,65558.3,92518.6,103245.6])\n",
    "w=numpy.array([53487,77930,89219,93451,94119])\n",
    "plt.figure(1)\n",
    "plt.plot(x,y/len(tran),'bo-', label='Algorithm 1', linewidth=2, markersize=9)\n",
    "plt.plot(x, z/len(tran), 'r*--',label='Spider', linewidth=1, markersize=9)\n",
    "plt.plot(x, w/len(tran), 'g*-',label='Algorithm 1 + Heuristic', linewidth=1, markersize=9)\n",
    "plt.xlabel('$M$')\n",
    "plt.ylabel('Success Ratio')\n",
    "plt.title('Comparison of Spider and Algorithm 1')\n",
    "plt.grid(True)\n",
    "plt.legend(loc=4,prop={'size': 15})\n",
    "plt.savefig(\"spidervsmaxweight.eps\")\n",
    "plt.show()"
   ]
  },
  {
   "cell_type": "code",
   "execution_count": 43,
   "metadata": {},
   "outputs": [
    {
     "data": {
      "image/png": "[encoded data removed]",
      "text/plain": [
       "<Figure size 432x288 with 1 Axes>"
      ]
     },
     "metadata": {
      "needs_background": "light"
     },
     "output_type": "display_data"
    }
   ],
   "source": [
    "import matplotlib.pyplot as plt\n",
    "import numpy\n",
    "from matplotlib import rcParams\n",
    "rcParams['font.family'] = 'serif'\n",
    "rcParams['font.sans-serif'] = ['Computer Modern']\n",
    "x=numpy.array([5,10,20,50,100])\n",
    "y=numpy.array([17.91195011138916,18.114810705184937,18.374590635299683,18.476011514663696,17.901396989822388])\n",
    "z=numpy.array([13.698929786682129,13.76298451423645,14.020827770233154,13.52838134765625,13.65138840675354])\n",
    "w=numpy.array([8.062795877456665,7.883580207824707,7.9091267585754395,7.813626766204834,8.00032114982605])\n",
    "plt.figure(1)\n",
    "plt.plot(x,y/len(tran),'bo-', label='Algorithm 1', linewidth=2, markersize=9)\n",
    "plt.plot(x, z/len(tran), 'r*--',label='Spider', linewidth=1, markersize=9)\n",
    "plt.plot(x, w/len(tran), 'g*-',label='Algorithm 1 + Heuristic', linewidth=1, markersize=9)\n",
    "plt.xlabel('$M$')\n",
    "plt.ylabel('Time')\n",
    "plt.title('Runtime of algorithms')\n",
    "plt.grid(True)\n",
    "plt.legend(loc=4,prop={'size': 15})\n",
    "#plt.savefig(\"spidervsmaxweight.eps\")\n",
    "plt.show()"
   ]
  },
  {
   "cell_type": "code",
   "execution_count": null,
   "metadata": {},
   "outputs": [],
   "source": []
  }
 ],
 "metadata": {
  "kernelspec": {
   "display_name": "Python 3",
   "language": "python",
   "name": "python3"
  },
  "language_info": {
   "codemirror_mode": {
    "name": "ipython",
    "version": 3
   },
   "file_extension": ".py",
   "mimetype": "text/x-python",
   "name": "python",
   "nbconvert_exporter": "python",
   "pygments_lexer": "ipython3",
   "version": "3.7.3"
  }
 },
 "nbformat": 4,
 "nbformat_minor": 4
}
